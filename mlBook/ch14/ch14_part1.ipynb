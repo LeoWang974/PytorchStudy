{
 "cells": [
  {
   "cell_type": "code",
   "id": "initial_id",
   "metadata": {
    "collapsed": true,
    "ExecuteTime": {
     "end_time": "2024-10-28T07:51:49.562458Z",
     "start_time": "2024-10-28T07:51:43.896312Z"
    }
   },
   "source": [
    "import sys\n",
    "import torch\n",
    "import numpy as np\n",
    "import scipy.signal\n",
    "from torchvision.io import read_image\n",
    "import torch.nn as nn\n",
    "import torchvision \n",
    "from torchvision import transforms \n",
    "from torch.utils.data import Subset\n",
    "from torch.utils.data import DataLoader\n",
    "import matplotlib.pyplot as plt\n",
    "import os"
   ],
   "outputs": [],
   "execution_count": 1
  },
  {
   "metadata": {
    "ExecuteTime": {
     "end_time": "2024-10-28T08:02:52.571914Z",
     "start_time": "2024-10-28T08:02:52.567355Z"
    }
   },
   "cell_type": "code",
   "source": [
    "#一维卷积\n",
    "def conv1d(x, w, p=0, s=1):\n",
    "    w_rot = np.array(w[::-1])\n",
    "    x_padded = np.array(x)\n",
    "    if p > 0:\n",
    "        zero_pad = np.zeros(shape=p)    #使用 NumPy 的 zeros 函数创建了一个长度为 p 的一维数组，数组中的所有元素都是 0\n",
    "        x_padded = np.concatenate([zero_pad, x_padded, zero_pad])   #使用 NumPy 的 concatenate 函数将三个数组拼接在一起\n",
    "    res = []\n",
    "    for i in range(0, (int((len(x_padded) - len(w_rot))/s) + 1) * s, s):\n",
    "        res.append(np.sum(x_padded[i:i + w_rot.shape[0]] * w_rot))\n",
    "    return np.array(res)\n",
    "\n",
    "\n",
    "## Testing:\n",
    "x = [1, 3, 2, 4, 5, 6, 1, 3]\n",
    "w = [1, 0, 3, 1, 2]"
   ],
   "id": "863eb4dec3ccb396",
   "outputs": [],
   "execution_count": 2
  },
  {
   "metadata": {
    "ExecuteTime": {
     "end_time": "2024-10-28T08:03:02.377047Z",
     "start_time": "2024-10-28T08:03:02.372535Z"
    }
   },
   "cell_type": "code",
   "source": [
    "print('Conv1d Implementation:',\n",
    "      conv1d(x, w, p=2, s=1))\n",
    "\n",
    "print('Numpy Results:',\n",
    "      np.convolve(x, w, mode='same')) "
   ],
   "id": "f83b2d0bee0d40b8",
   "outputs": [
    {
     "name": "stdout",
     "output_type": "stream",
     "text": [
      "Conv1d Implementation: [ 5. 14. 16. 26. 24. 34. 19. 22.]\n",
      "Numpy Results: [ 5 14 16 26 24 34 19 22]\n"
     ]
    }
   ],
   "execution_count": 3
  },
  {
   "metadata": {
    "ExecuteTime": {
     "end_time": "2024-10-28T08:11:28.062094Z",
     "start_time": "2024-10-28T08:11:28.056319Z"
    }
   },
   "cell_type": "code",
   "source": [
    "#二维卷积\n",
    "def conv2d(X, W, p=(0, 0), s=(1, 1)):\n",
    "    W_rot = np.array(W)[::-1,::-1]#取反\n",
    "    X_orig = np.array(X)\n",
    "    n1 = X_orig.shape[0] + 2*p[0]\n",
    "    n2 = X_orig.shape[1] + 2*p[1]\n",
    "    X_padded = np.zeros(shape=(n1, n2))\n",
    "    X_padded[p[0]:p[0]+X_orig.shape[0],\n",
    "    p[1]:p[1]+X_orig.shape[1]] = X_orig\n",
    "\n",
    "    res = []\n",
    "    for i in range(0, (int((X_padded.shape[0] -\n",
    "                            W_rot.shape[0]) / s[0]) + 1) * s[0], s[0]):\n",
    "        res.append([])\n",
    "        for j in range(0, (int((X_padded.shape[1] -\n",
    "                                W_rot.shape[1]) / s[1]) + 1) * s[1], s[1]):\n",
    "            X_sub = X_padded[i:i + W_rot.shape[0],\n",
    "                    j:j + W_rot.shape[1]]\n",
    "            res[-1].append(np.sum(X_sub * W_rot))\n",
    "    return(np.array(res))\n",
    "\n",
    "X = [[1, 3, 2, 4], [5, 6, 1, 3], [1, 2, 0, 2], [3, 4, 3, 2]]\n",
    "W = [[1, 0, 3], [1, 2, 1], [0, 1, 1]]"
   ],
   "id": "e35f2d530ecf7ac2",
   "outputs": [],
   "execution_count": 4
  },
  {
   "metadata": {
    "ExecuteTime": {
     "end_time": "2024-10-28T08:11:47.659901Z",
     "start_time": "2024-10-28T08:11:47.656606Z"
    }
   },
   "cell_type": "code",
   "source": [
    "print('Conv2d Implementation:\\n',\n",
    "    conv2d(X, W, p=(1, 1), s=(1, 1)))\n",
    "\n",
    "\n",
    "print('SciPy Results:\\n',\n",
    "    scipy.signal.convolve2d(X, W, mode='same'))"
   ],
   "id": "f57a71923c0a1263",
   "outputs": [
    {
     "name": "stdout",
     "output_type": "stream",
     "text": [
      "Conv2d Implementation:\n",
      " [[11. 25. 32. 13.]\n",
      " [19. 25. 24. 13.]\n",
      " [13. 28. 25. 17.]\n",
      " [11. 17. 14.  9.]]\n",
      "SciPy Results:\n",
      " [[11 25 32 13]\n",
      " [19 25 24 13]\n",
      " [13 28 25 17]\n",
      " [11 17 14  9]]\n"
     ]
    }
   ],
   "execution_count": 6
  },
  {
   "metadata": {
    "ExecuteTime": {
     "end_time": "2024-10-28T13:58:15.846659Z",
     "start_time": "2024-10-28T13:58:15.773835Z"
    }
   },
   "cell_type": "code",
   "source": [
    "img = read_image('example-image.png') \n",
    " \n",
    "print('Image shape:', img.shape)\n",
    "print('Number of channels:', img.shape[0])#通道数\n",
    "print('Image data type:', img.dtype)\n",
    "print(img[:, 100:102, 100:102])"
   ],
   "id": "ab2c18ea8849793a",
   "outputs": [
    {
     "name": "stdout",
     "output_type": "stream",
     "text": [
      "Image shape: torch.Size([3, 252, 221])\n",
      "Number of channels: 3\n",
      "Image data type: torch.uint8\n",
      "tensor([[[179, 182],\n",
      "         [180, 182]],\n",
      "\n",
      "        [[134, 136],\n",
      "         [135, 137]],\n",
      "\n",
      "        [[110, 112],\n",
      "         [111, 113]]], dtype=torch.uint8)\n"
     ]
    }
   ],
   "execution_count": 10
  },
  {
   "metadata": {},
   "cell_type": "code",
   "outputs": [],
   "execution_count": null,
   "source": "",
   "id": "fd0b20124b93738"
  }
 ],
 "metadata": {
  "kernelspec": {
   "display_name": "Python 3",
   "language": "python",
   "name": "python3"
  },
  "language_info": {
   "codemirror_mode": {
    "name": "ipython",
    "version": 2
   },
   "file_extension": ".py",
   "mimetype": "text/x-python",
   "name": "python",
   "nbconvert_exporter": "python",
   "pygments_lexer": "ipython2",
   "version": "2.7.6"
  }
 },
 "nbformat": 4,
 "nbformat_minor": 5
}
