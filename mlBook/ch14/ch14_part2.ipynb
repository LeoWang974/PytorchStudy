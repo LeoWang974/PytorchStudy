{
 "cells": [
  {
   "cell_type": "code",
   "id": "initial_id",
   "metadata": {
    "collapsed": true,
    "ExecuteTime": {
     "end_time": "2024-10-31T08:35:02.394542Z",
     "start_time": "2024-10-31T08:35:01.955348Z"
    }
   },
   "source": [
    "import sys\n",
    "import torch\n",
    "import torch.nn as nn\n",
    "import numpy as np\n",
    "import matplotlib.pyplot as plt\n",
    "import torchvision \n",
    "from torchvision import transforms \n",
    "from torch.utils.data import DataLoader\n",
    "from torch.utils.data import Subset\n",
    "import scipy.signal\n",
    "from torchvision.io import read_image\n",
    "import os"
   ],
   "outputs": [],
   "execution_count": 5
  },
  {
   "metadata": {
    "ExecuteTime": {
     "end_time": "2024-10-31T09:34:02.625870Z",
     "start_time": "2024-10-31T09:34:02.603209Z"
    }
   },
   "cell_type": "code",
   "source": [
    "image_path = './'\n",
    "celeba_train_dataset = torchvision.datasets.CelebA(image_path, split='train', target_type='attr', download=False)\n",
    "celeba_valid_dataset = torchvision.datasets.CelebA(image_path, split='valid', target_type='attr', download=False)\n",
    "celeba_test_dataset = torchvision.datasets.CelebA(image_path, split='test', target_type='attr', download=False)\n",
    "\n",
    "print('Train set:', len(celeba_train_dataset))\n",
    "print('Validation set:', len(celeba_valid_dataset))\n",
    "print('Test set:', len(celeba_test_dataset))"
   ],
   "id": "8126128883d92621",
   "outputs": [
    {
     "ename": "RuntimeError",
     "evalue": "Dataset not found or corrupted. You can use download=True to download it",
     "output_type": "error",
     "traceback": [
      "\u001B[1;31m---------------------------------------------------------------------------\u001B[0m",
      "\u001B[1;31mRuntimeError\u001B[0m                              Traceback (most recent call last)",
      "Cell \u001B[1;32mIn[30], line 2\u001B[0m\n\u001B[0;32m      1\u001B[0m image_path \u001B[38;5;241m=\u001B[39m \u001B[38;5;124m'\u001B[39m\u001B[38;5;124m./\u001B[39m\u001B[38;5;124m'\u001B[39m\n\u001B[1;32m----> 2\u001B[0m celeba_train_dataset \u001B[38;5;241m=\u001B[39m torchvision\u001B[38;5;241m.\u001B[39mdatasets\u001B[38;5;241m.\u001B[39mCelebA(image_path, split\u001B[38;5;241m=\u001B[39m\u001B[38;5;124m'\u001B[39m\u001B[38;5;124mtrain\u001B[39m\u001B[38;5;124m'\u001B[39m, target_type\u001B[38;5;241m=\u001B[39m\u001B[38;5;124m'\u001B[39m\u001B[38;5;124mattr\u001B[39m\u001B[38;5;124m'\u001B[39m, download\u001B[38;5;241m=\u001B[39m\u001B[38;5;28;01mFalse\u001B[39;00m)\n\u001B[0;32m      3\u001B[0m celeba_valid_dataset \u001B[38;5;241m=\u001B[39m torchvision\u001B[38;5;241m.\u001B[39mdatasets\u001B[38;5;241m.\u001B[39mCelebA(image_path, split\u001B[38;5;241m=\u001B[39m\u001B[38;5;124m'\u001B[39m\u001B[38;5;124mvalid\u001B[39m\u001B[38;5;124m'\u001B[39m, target_type\u001B[38;5;241m=\u001B[39m\u001B[38;5;124m'\u001B[39m\u001B[38;5;124mattr\u001B[39m\u001B[38;5;124m'\u001B[39m, download\u001B[38;5;241m=\u001B[39m\u001B[38;5;28;01mFalse\u001B[39;00m)\n\u001B[0;32m      4\u001B[0m celeba_test_dataset \u001B[38;5;241m=\u001B[39m torchvision\u001B[38;5;241m.\u001B[39mdatasets\u001B[38;5;241m.\u001B[39mCelebA(image_path, split\u001B[38;5;241m=\u001B[39m\u001B[38;5;124m'\u001B[39m\u001B[38;5;124mtest\u001B[39m\u001B[38;5;124m'\u001B[39m, target_type\u001B[38;5;241m=\u001B[39m\u001B[38;5;124m'\u001B[39m\u001B[38;5;124mattr\u001B[39m\u001B[38;5;124m'\u001B[39m, download\u001B[38;5;241m=\u001B[39m\u001B[38;5;28;01mFalse\u001B[39;00m)\n",
      "File \u001B[1;32m~\\.conda\\envs\\pytorchlab\\Lib\\site-packages\\torchvision\\datasets\\celeba.py:88\u001B[0m, in \u001B[0;36mCelebA.__init__\u001B[1;34m(self, root, split, target_type, transform, target_transform, download)\u001B[0m\n\u001B[0;32m     85\u001B[0m     \u001B[38;5;28mself\u001B[39m\u001B[38;5;241m.\u001B[39mdownload()\n\u001B[0;32m     87\u001B[0m \u001B[38;5;28;01mif\u001B[39;00m \u001B[38;5;129;01mnot\u001B[39;00m \u001B[38;5;28mself\u001B[39m\u001B[38;5;241m.\u001B[39m_check_integrity():\n\u001B[1;32m---> 88\u001B[0m     \u001B[38;5;28;01mraise\u001B[39;00m \u001B[38;5;167;01mRuntimeError\u001B[39;00m(\u001B[38;5;124m\"\u001B[39m\u001B[38;5;124mDataset not found or corrupted. You can use download=True to download it\u001B[39m\u001B[38;5;124m\"\u001B[39m)\n\u001B[0;32m     90\u001B[0m split_map \u001B[38;5;241m=\u001B[39m {\n\u001B[0;32m     91\u001B[0m     \u001B[38;5;124m\"\u001B[39m\u001B[38;5;124mtrain\u001B[39m\u001B[38;5;124m\"\u001B[39m: \u001B[38;5;241m0\u001B[39m,\n\u001B[0;32m     92\u001B[0m     \u001B[38;5;124m\"\u001B[39m\u001B[38;5;124mvalid\u001B[39m\u001B[38;5;124m\"\u001B[39m: \u001B[38;5;241m1\u001B[39m,\n\u001B[0;32m     93\u001B[0m     \u001B[38;5;124m\"\u001B[39m\u001B[38;5;124mtest\u001B[39m\u001B[38;5;124m\"\u001B[39m: \u001B[38;5;241m2\u001B[39m,\n\u001B[0;32m     94\u001B[0m     \u001B[38;5;124m\"\u001B[39m\u001B[38;5;124mall\u001B[39m\u001B[38;5;124m\"\u001B[39m: \u001B[38;5;28;01mNone\u001B[39;00m,\n\u001B[0;32m     95\u001B[0m }\n\u001B[0;32m     96\u001B[0m split_ \u001B[38;5;241m=\u001B[39m split_map[verify_str_arg(split\u001B[38;5;241m.\u001B[39mlower(), \u001B[38;5;124m\"\u001B[39m\u001B[38;5;124msplit\u001B[39m\u001B[38;5;124m\"\u001B[39m, (\u001B[38;5;124m\"\u001B[39m\u001B[38;5;124mtrain\u001B[39m\u001B[38;5;124m\"\u001B[39m, \u001B[38;5;124m\"\u001B[39m\u001B[38;5;124mvalid\u001B[39m\u001B[38;5;124m\"\u001B[39m, \u001B[38;5;124m\"\u001B[39m\u001B[38;5;124mtest\u001B[39m\u001B[38;5;124m\"\u001B[39m, \u001B[38;5;124m\"\u001B[39m\u001B[38;5;124mall\u001B[39m\u001B[38;5;124m\"\u001B[39m))]\n",
      "\u001B[1;31mRuntimeError\u001B[0m: Dataset not found or corrupted. You can use download=True to download it"
     ]
    }
   ],
   "execution_count": 30
  },
  {
   "metadata": {
    "ExecuteTime": {
     "end_time": "2024-10-31T09:42:55.311651Z",
     "start_time": "2024-10-31T09:42:55.290988Z"
    }
   },
   "cell_type": "code",
   "source": [
    "import torchvision.datasets as datasets  \n",
    "  \n",
    "# 假设您的CelebA数据集已经下载并解压到以下目录  \n",
    "# 例如: /path/to/your/local/celeba_dataset  \n",
    "image_path = 'D:\\\\Study\\\\GitWorkplace\\\\pytorchStudy\\\\PytorchStudy\\\\mlBook\\\\ch14\\\\celeba'  \n",
    "  \n",
    "# 加载训练集  \n",
    "celeba_train_dataset = datasets.CelebA(root=image_path, split='train', target_type='attr', transform=None, download=False)  \n",
    "  \n",
    "# 由于没有预定义的验证集，这里选择不加载验证集  \n",
    "# 如果您需要从训练集中划分验证集，可以在数据加载后手动进行  \n",
    "# 例如，使用随机索引或基于某个条件的索引来划分  \n",
    "  \n",
    "# 加载测试集  \n",
    "celeba_test_dataset = datasets.CelebA(root=image_path, split='test', target_type='attr', transform=None, download=False)  \n",
    "  \n",
    "# 打印数据集大小  \n",
    "print('Train set:', len(celeba_train_dataset))  \n",
    "# print('Validation set:', len(celeba_valid_dataset))  # 如果未加载验证集，则注释掉这行  \n",
    "print('Test set:', len(celeba_test_dataset))"
   ],
   "id": "f699d6d7d9deb22a",
   "outputs": [
    {
     "ename": "RuntimeError",
     "evalue": "Dataset not found or corrupted. You can use download=True to download it",
     "output_type": "error",
     "traceback": [
      "\u001B[1;31m---------------------------------------------------------------------------\u001B[0m",
      "\u001B[1;31mRuntimeError\u001B[0m                              Traceback (most recent call last)",
      "Cell \u001B[1;32mIn[35], line 8\u001B[0m\n\u001B[0;32m      5\u001B[0m image_path \u001B[38;5;241m=\u001B[39m \u001B[38;5;124m'\u001B[39m\u001B[38;5;124mD:\u001B[39m\u001B[38;5;130;01m\\\\\u001B[39;00m\u001B[38;5;124mStudy\u001B[39m\u001B[38;5;130;01m\\\\\u001B[39;00m\u001B[38;5;124mGitWorkplace\u001B[39m\u001B[38;5;130;01m\\\\\u001B[39;00m\u001B[38;5;124mpytorchStudy\u001B[39m\u001B[38;5;130;01m\\\\\u001B[39;00m\u001B[38;5;124mPytorchStudy\u001B[39m\u001B[38;5;130;01m\\\\\u001B[39;00m\u001B[38;5;124mmlBook\u001B[39m\u001B[38;5;130;01m\\\\\u001B[39;00m\u001B[38;5;124mch14\u001B[39m\u001B[38;5;130;01m\\\\\u001B[39;00m\u001B[38;5;124mceleba\u001B[39m\u001B[38;5;124m'\u001B[39m  \n\u001B[0;32m      7\u001B[0m \u001B[38;5;66;03m# 加载训练集  \u001B[39;00m\n\u001B[1;32m----> 8\u001B[0m celeba_train_dataset \u001B[38;5;241m=\u001B[39m datasets\u001B[38;5;241m.\u001B[39mCelebA(root\u001B[38;5;241m=\u001B[39mimage_path, split\u001B[38;5;241m=\u001B[39m\u001B[38;5;124m'\u001B[39m\u001B[38;5;124mtrain\u001B[39m\u001B[38;5;124m'\u001B[39m, target_type\u001B[38;5;241m=\u001B[39m\u001B[38;5;124m'\u001B[39m\u001B[38;5;124mattr\u001B[39m\u001B[38;5;124m'\u001B[39m, transform\u001B[38;5;241m=\u001B[39m\u001B[38;5;28;01mNone\u001B[39;00m, download\u001B[38;5;241m=\u001B[39m\u001B[38;5;28;01mFalse\u001B[39;00m)  \n\u001B[0;32m     10\u001B[0m \u001B[38;5;66;03m# 由于没有预定义的验证集，这里选择不加载验证集  \u001B[39;00m\n\u001B[0;32m     11\u001B[0m \u001B[38;5;66;03m# 如果您需要从训练集中划分验证集，可以在数据加载后手动进行  \u001B[39;00m\n\u001B[0;32m     12\u001B[0m \u001B[38;5;66;03m# 例如，使用随机索引或基于某个条件的索引来划分  \u001B[39;00m\n\u001B[0;32m     13\u001B[0m   \n\u001B[0;32m     14\u001B[0m \u001B[38;5;66;03m# 加载测试集  \u001B[39;00m\n\u001B[0;32m     15\u001B[0m celeba_test_dataset \u001B[38;5;241m=\u001B[39m datasets\u001B[38;5;241m.\u001B[39mCelebA(root\u001B[38;5;241m=\u001B[39mimage_path, split\u001B[38;5;241m=\u001B[39m\u001B[38;5;124m'\u001B[39m\u001B[38;5;124mtest\u001B[39m\u001B[38;5;124m'\u001B[39m, target_type\u001B[38;5;241m=\u001B[39m\u001B[38;5;124m'\u001B[39m\u001B[38;5;124mattr\u001B[39m\u001B[38;5;124m'\u001B[39m, transform\u001B[38;5;241m=\u001B[39m\u001B[38;5;28;01mNone\u001B[39;00m, download\u001B[38;5;241m=\u001B[39m\u001B[38;5;28;01mFalse\u001B[39;00m)  \n",
      "File \u001B[1;32m~\\.conda\\envs\\pytorchlab\\Lib\\site-packages\\torchvision\\datasets\\celeba.py:88\u001B[0m, in \u001B[0;36mCelebA.__init__\u001B[1;34m(self, root, split, target_type, transform, target_transform, download)\u001B[0m\n\u001B[0;32m     85\u001B[0m     \u001B[38;5;28mself\u001B[39m\u001B[38;5;241m.\u001B[39mdownload()\n\u001B[0;32m     87\u001B[0m \u001B[38;5;28;01mif\u001B[39;00m \u001B[38;5;129;01mnot\u001B[39;00m \u001B[38;5;28mself\u001B[39m\u001B[38;5;241m.\u001B[39m_check_integrity():\n\u001B[1;32m---> 88\u001B[0m     \u001B[38;5;28;01mraise\u001B[39;00m \u001B[38;5;167;01mRuntimeError\u001B[39;00m(\u001B[38;5;124m\"\u001B[39m\u001B[38;5;124mDataset not found or corrupted. You can use download=True to download it\u001B[39m\u001B[38;5;124m\"\u001B[39m)\n\u001B[0;32m     90\u001B[0m split_map \u001B[38;5;241m=\u001B[39m {\n\u001B[0;32m     91\u001B[0m     \u001B[38;5;124m\"\u001B[39m\u001B[38;5;124mtrain\u001B[39m\u001B[38;5;124m\"\u001B[39m: \u001B[38;5;241m0\u001B[39m,\n\u001B[0;32m     92\u001B[0m     \u001B[38;5;124m\"\u001B[39m\u001B[38;5;124mvalid\u001B[39m\u001B[38;5;124m\"\u001B[39m: \u001B[38;5;241m1\u001B[39m,\n\u001B[0;32m     93\u001B[0m     \u001B[38;5;124m\"\u001B[39m\u001B[38;5;124mtest\u001B[39m\u001B[38;5;124m\"\u001B[39m: \u001B[38;5;241m2\u001B[39m,\n\u001B[0;32m     94\u001B[0m     \u001B[38;5;124m\"\u001B[39m\u001B[38;5;124mall\u001B[39m\u001B[38;5;124m\"\u001B[39m: \u001B[38;5;28;01mNone\u001B[39;00m,\n\u001B[0;32m     95\u001B[0m }\n\u001B[0;32m     96\u001B[0m split_ \u001B[38;5;241m=\u001B[39m split_map[verify_str_arg(split\u001B[38;5;241m.\u001B[39mlower(), \u001B[38;5;124m\"\u001B[39m\u001B[38;5;124msplit\u001B[39m\u001B[38;5;124m\"\u001B[39m, (\u001B[38;5;124m\"\u001B[39m\u001B[38;5;124mtrain\u001B[39m\u001B[38;5;124m\"\u001B[39m, \u001B[38;5;124m\"\u001B[39m\u001B[38;5;124mvalid\u001B[39m\u001B[38;5;124m\"\u001B[39m, \u001B[38;5;124m\"\u001B[39m\u001B[38;5;124mtest\u001B[39m\u001B[38;5;124m\"\u001B[39m, \u001B[38;5;124m\"\u001B[39m\u001B[38;5;124mall\u001B[39m\u001B[38;5;124m\"\u001B[39m))]\n",
      "\u001B[1;31mRuntimeError\u001B[0m: Dataset not found or corrupted. You can use download=True to download it"
     ]
    }
   ],
   "execution_count": 35
  }
 ],
 "metadata": {
  "kernelspec": {
   "display_name": "Python 3",
   "language": "python",
   "name": "python3"
  },
  "language_info": {
   "codemirror_mode": {
    "name": "ipython",
    "version": 2
   },
   "file_extension": ".py",
   "mimetype": "text/x-python",
   "name": "python",
   "nbconvert_exporter": "python",
   "pygments_lexer": "ipython2",
   "version": "2.7.6"
  }
 },
 "nbformat": 4,
 "nbformat_minor": 5
}
