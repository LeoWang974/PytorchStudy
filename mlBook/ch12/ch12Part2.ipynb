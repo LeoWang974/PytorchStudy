{
 "cells": [
  {
   "cell_type": "code",
   "id": "initial_id",
   "metadata": {
    "collapsed": true,
    "ExecuteTime": {
     "end_time": "2024-09-14T14:54:12.784117Z",
     "start_time": "2024-09-14T14:54:09.394933Z"
    }
   },
   "source": [
    "#在PyTorch中构建神经网络模型\n",
    "import sys\n",
    "import torch\n",
    "import numpy as np\n",
    "import matplotlib.pyplot as plt\n",
    "from torch.onnx.symbolic_opset9 import tensor\n",
    "from torch.utils.data import TensorDataset\n",
    "from torch.utils.data import DataLoader\n",
    "import torch.nn as nn\n",
    "from sklearn.datasets import load_iris\n",
    "from sklearn.model_selection import train_test_split \n",
    "from scipy.special import expit"
   ],
   "outputs": [],
   "execution_count": 2
  },
  {
   "metadata": {
    "ExecuteTime": {
     "end_time": "2024-09-14T15:05:30.622924Z",
     "start_time": "2024-09-14T15:05:30.573377Z"
    }
   },
   "cell_type": "code",
   "source": [
    "#构建线性回归模型\n",
    "X_train = np.arange(10, dtype='float32').reshape((10, 1))\n",
    "y_train = np.array([1.0, 1.3, 3.1, 2.0, 5.0, 6.3, 6.6, \n",
    "                    7.4, 8.0, 9.0], dtype='float32')\n",
    "\n",
    "plt.plot(X_train, y_train, 'o', markersize=10)\n",
    "plt.xlabel('x')\n",
    "plt.ylabel('y')\n",
    "\n",
    "plt.show()"
   ],
   "id": "85c141aca201ec5b",
   "outputs": [
    {
     "data": {
      "text/plain": [
       "<Figure size 640x480 with 1 Axes>"
      ],
      "image/png": "[encoded data removed]"
     },
     "metadata": {},
     "output_type": "display_data"
    }
   ],
   "execution_count": 31
  },
  {
   "metadata": {
    "ExecuteTime": {
     "end_time": "2024-09-14T15:05:33.199693Z",
     "start_time": "2024-09-14T15:05:33.196962Z"
    }
   },
   "cell_type": "code",
   "source": [
    "X_train_norm = (X_train - np.mean(X_train)) / np.std(X_train)\n",
    "X_train_norm = torch.from_numpy(X_train_norm)\n",
    "y_train = torch.from_numpy(y_train).float()"
   ],
   "id": "ed3883b299e694a7",
   "outputs": [],
   "execution_count": 32
  },
  {
   "metadata": {
    "ExecuteTime": {
     "end_time": "2024-09-14T15:11:03.494153Z",
     "start_time": "2024-09-14T15:11:03.491514Z"
    }
   },
   "cell_type": "code",
   "source": [
    "train_ds = TensorDataset(X_train_norm, y_train)\n",
    "\n",
    "batch_size = 1\n",
    "train_dl = DataLoader(train_ds, batch_size, shuffle=True)"
   ],
   "id": "23856c94d4c13071",
   "outputs": [],
   "execution_count": 38
  },
  {
   "metadata": {
    "ExecuteTime": {
     "end_time": "2024-09-14T15:08:00.168783Z",
     "start_time": "2024-09-14T15:08:00.159113Z"
    }
   },
   "cell_type": "code",
   "source": [
    "torch.manual_seed(1)\n",
    "weight = torch.randn(1)\n",
    "weight.requires_grad_()\n",
    "bias = torch.zeros(1, requires_grad=True)"
   ],
   "id": "f242b3370f33b2dd",
   "outputs": [],
   "execution_count": 36
  },
  {
   "metadata": {
    "ExecuteTime": {
     "end_time": "2024-09-14T15:08:54.334847Z",
     "start_time": "2024-09-14T15:08:54.331944Z"
    }
   },
   "cell_type": "code",
   "source": [
    "def loss_fn(input, target):\n",
    "    return (input-target).pow(2).mean() #均方误差\n",
    "\n",
    "def model(xb):\n",
    "    return xb @ weight + bias"
   ],
   "id": "a593375091eaca31",
   "outputs": [],
   "execution_count": 37
  },
  {
   "metadata": {
    "ExecuteTime": {
     "end_time": "2024-09-14T15:14:12.555379Z",
     "start_time": "2024-09-14T15:14:12.235774Z"
    }
   },
   "cell_type": "code",
   "source": [
    "learning_rate = 0.001\n",
    "num_epochs = 200        #训练200此\n",
    "log_epochs = 10         #记录间隔为10\n",
    "\n",
    "for epoch in range(num_epochs):\n",
    "    for x_batch, y_batch in train_dl:\n",
    "        pred = model(x_batch)\n",
    "        loss = loss_fn(pred, y_batch)\n",
    "        loss.backward()         #直接使用backward()函数计算梯度\n",
    "\n",
    "        with torch.no_grad():\n",
    "            weight -= weight.grad * learning_rate\n",
    "            bias -= bias.grad * learning_rate\n",
    "            weight.grad.zero_()\n",
    "            bias.grad.zero_()\n",
    "            \"\"\"\n",
    "            grad.zero_()函数用于将张量的梯度设置为零。‌\n",
    "在PyTorch中，grad.zero_()是一个重要的函数，用于在每个batch的训练之前执行，以避免累积梯度对训练产生影响。这个操作通常与优化器的zero_grad()方法一起使用，后者用于将模型的参数梯度初始化为0。在训练神经网络时，通过前向传播计算预测值，计算当前损失，然后进行反向传播计算梯度，最后更新所有参数。在这个过程中，grad.zero_()的作用是清除之前累积的梯度值，确保在每个训练批次开始时，模型的参数梯度是干净的，避免将前一个批次的梯度信息带入到当前批次的训练中，从而影响模型的训练过程‌12。\n",
    "此外，grad.zero_()的使用需要注意，只有当张量被求过一次梯度后，这个函数才能使用。如果张量没有被求过梯度，直接调用grad.zero_()会导致错误。这是因为只有当张量参与了计算图中梯度的计算后，才会拥有.grad属性，进而才能使用grad.zero_()来清除其梯度值‌3。\n",
    "总的来说，grad.zero_()函数在PyTorch中扮演着重要的角色，它确保了每个训练批次开始时模型参数梯度的清零，是训练神经网络过程中不可或缺的一步。\n",
    "            \"\"\"\n",
    " \n",
    "    if epoch % log_epochs==0:\n",
    "        print(f'Epoch {epoch}  Loss {loss.item():.4f}')"
   ],
   "id": "f8b54e330f792e5c",
   "outputs": [
    {
     "name": "stdout",
     "output_type": "stream",
     "text": [
      "Epoch 0  Loss 0.1055\n",
      "Epoch 10  Loss 0.0300\n",
      "Epoch 20  Loss 0.0863\n",
      "Epoch 30  Loss 0.8329\n",
      "Epoch 40  Loss 0.1251\n",
      "Epoch 50  Loss 0.1277\n",
      "Epoch 60  Loss 0.2779\n",
      "Epoch 70  Loss 2.3809\n",
      "Epoch 80  Loss 0.0588\n",
      "Epoch 90  Loss 0.0612\n",
      "Epoch 100  Loss 0.0369\n",
      "Epoch 110  Loss 0.2618\n",
      "Epoch 120  Loss 0.1363\n",
      "Epoch 130  Loss 0.2587\n",
      "Epoch 140  Loss 0.2574\n",
      "Epoch 150  Loss 2.4236\n",
      "Epoch 160  Loss 0.0491\n",
      "Epoch 170  Loss 0.0061\n",
      "Epoch 180  Loss 0.1386\n",
      "Epoch 190  Loss 0.1386\n"
     ]
    }
   ],
   "execution_count": 40
  },
  {
   "metadata": {
    "ExecuteTime": {
     "end_time": "2024-09-14T15:14:34.642544Z",
     "start_time": "2024-09-14T15:14:34.578372Z"
    }
   },
   "cell_type": "code",
   "source": [
    "print('Final Parameters:', weight.item(), bias.item())\n",
    " \n",
    "X_test = np.linspace(0, 9, num=100, dtype='float32').reshape(-1, 1)\n",
    "X_test_norm = (X_test - np.mean(X_train)) / np.std(X_train)\n",
    "X_test_norm = torch.from_numpy(X_test_norm)\n",
    "y_pred = model(X_test_norm).detach().numpy()\n",
    "#detach()方法用于从计算图中分离张量，使其成为一个新的张量，这个新张量不再需要梯度信息。\n",
    "#在预测模式下，我们不需要计算梯度，因为预测不涉及反向传播。.detach()可以帮助减少内存消耗，并避免不必要的计算。\n",
    "\n",
    "fig = plt.figure(figsize=(13, 5))\n",
    "ax = fig.add_subplot(1, 2, 1)\n",
    "plt.plot(X_train_norm, y_train, 'o', markersize=10)\n",
    "plt.plot(X_test_norm, y_pred, '--', lw=3)\n",
    "plt.legend(['Training examples', 'Linear Reg.'], fontsize=15)\n",
    "ax.set_xlabel('x', size=15)\n",
    "ax.set_ylabel('y', size=15)\n",
    "ax.tick_params(axis='both', which='major', labelsize=15)\n",
    "\n",
    "plt.show()"
   ],
   "id": "2671e48bae111619",
   "outputs": [
    {
     "name": "stdout",
     "output_type": "stream",
     "text": [
      "Final Parameters: 2.7061362266540527 4.968233108520508\n"
     ]
    },
    {
     "data": {
      "text/plain": [
       "<Figure size 1300x500 with 1 Axes>"
      ],
      "image/png": "[encoded data removed]"
     },
     "metadata": {},
     "output_type": "display_data"
    }
   ],
   "execution_count": 41
  }
 ],
 "metadata": {
  "kernelspec": {
   "display_name": "Python 3",
   "language": "python",
   "name": "python3"
  },
  "language_info": {
   "codemirror_mode": {
    "name": "ipython",
    "version": 2
   },
   "file_extension": ".py",
   "mimetype": "text/x-python",
   "name": "python",
   "nbconvert_exporter": "python",
   "pygments_lexer": "ipython2",
   "version": "2.7.6"
  }
 },
 "nbformat": 4,
 "nbformat_minor": 5
}
