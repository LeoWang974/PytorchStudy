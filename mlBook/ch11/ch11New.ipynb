{
 "cells": [
  {
   "metadata": {
    "ExecuteTime": {
     "end_time": "2024-09-13T08:26:00.054724Z",
     "start_time": "2024-09-13T08:25:59.164632Z"
    }
   },
   "cell_type": "code",
   "source": [
    "import sys\n",
    "from sklearn.datasets import fetch_openml\n",
    "import matplotlib.pyplot as plt\n",
    "from sklearn.model_selection import train_test_split\n",
    "import numpy as np"
   ],
   "id": "f8952c3892c2400b",
   "outputs": [],
   "execution_count": 1
  },
  {
   "metadata": {},
   "cell_type": "code",
   "outputs": [],
   "execution_count": null,
   "source": [
    "#11 用人工神经网络建立复杂函数模型\n",
    "#11.1.3利用前向传播激活神经网络\n",
    "#我们可以将多层感知机的学习过程总结为如下三个步骤：1.从输入层开始，将训练数据输入网络，前向传播训练数据以生成输出数据\n",
    "#2.基于网络的输出计算损失函数值；3.使用损失函数值计算反向传播，求出损失函数对网络中每个权重和偏置的导数，并更新模型参数"
   ],
   "id": "e7f6e6a86df9f315"
  },
  {
   "metadata": {
    "ExecuteTime": {
     "end_time": "2024-09-13T08:56:29.779681700Z",
     "start_time": "2024-09-13T08:54:56.065467Z"
    }
   },
   "cell_type": "code",
   "source": [
    "#11.2识别手写数字\n",
    "X, y = fetch_openml('mnist_784', version=1, return_X_y=True)\n",
    "X = X.values\n",
    "y = y.astype(int).values\n",
    "\n",
    "print(X.shape)\n",
    "print(y.shape)"
   ],
   "id": "eac3f121b7c38562",
   "outputs": [
    {
     "ename": "KeyboardInterrupt",
     "evalue": "",
     "output_type": "error",
     "traceback": [
      "\u001B[1;31m---------------------------------------------------------------------------\u001B[0m",
      "\u001B[1;31mKeyboardInterrupt\u001B[0m                         Traceback (most recent call last)",
      "Cell \u001B[1;32mIn[4], line 2\u001B[0m\n\u001B[0;32m      1\u001B[0m \u001B[38;5;66;03m#11.2识别手写数字\u001B[39;00m\n\u001B[1;32m----> 2\u001B[0m X, y \u001B[38;5;241m=\u001B[39m fetch_openml(\u001B[38;5;124m'\u001B[39m\u001B[38;5;124mmnist_784\u001B[39m\u001B[38;5;124m'\u001B[39m, version\u001B[38;5;241m=\u001B[39m\u001B[38;5;241m1\u001B[39m, return_X_y\u001B[38;5;241m=\u001B[39m\u001B[38;5;28;01mTrue\u001B[39;00m)\n\u001B[0;32m      3\u001B[0m X \u001B[38;5;241m=\u001B[39m X\u001B[38;5;241m.\u001B[39mvalues\n\u001B[0;32m      4\u001B[0m y \u001B[38;5;241m=\u001B[39m y\u001B[38;5;241m.\u001B[39mastype(\u001B[38;5;28mint\u001B[39m)\u001B[38;5;241m.\u001B[39mvalues\n",
      "File \u001B[1;32mD:\\software\\Anaconda\\envs\\pytorchStudy\\Lib\\site-packages\\sklearn\\utils\\_param_validation.py:213\u001B[0m, in \u001B[0;36mvalidate_params.<locals>.decorator.<locals>.wrapper\u001B[1;34m(*args, **kwargs)\u001B[0m\n\u001B[0;32m    207\u001B[0m \u001B[38;5;28;01mtry\u001B[39;00m:\n\u001B[0;32m    208\u001B[0m     \u001B[38;5;28;01mwith\u001B[39;00m config_context(\n\u001B[0;32m    209\u001B[0m         skip_parameter_validation\u001B[38;5;241m=\u001B[39m(\n\u001B[0;32m    210\u001B[0m             prefer_skip_nested_validation \u001B[38;5;129;01mor\u001B[39;00m global_skip_validation\n\u001B[0;32m    211\u001B[0m         )\n\u001B[0;32m    212\u001B[0m     ):\n\u001B[1;32m--> 213\u001B[0m         \u001B[38;5;28;01mreturn\u001B[39;00m func(\u001B[38;5;241m*\u001B[39margs, \u001B[38;5;241m*\u001B[39m\u001B[38;5;241m*\u001B[39mkwargs)\n\u001B[0;32m    214\u001B[0m \u001B[38;5;28;01mexcept\u001B[39;00m InvalidParameterError \u001B[38;5;28;01mas\u001B[39;00m e:\n\u001B[0;32m    215\u001B[0m     \u001B[38;5;66;03m# When the function is just a wrapper around an estimator, we allow\u001B[39;00m\n\u001B[0;32m    216\u001B[0m     \u001B[38;5;66;03m# the function to delegate validation to the estimator, but we replace\u001B[39;00m\n\u001B[0;32m    217\u001B[0m     \u001B[38;5;66;03m# the name of the estimator by the name of the function in the error\u001B[39;00m\n\u001B[0;32m    218\u001B[0m     \u001B[38;5;66;03m# message to avoid confusion.\u001B[39;00m\n\u001B[0;32m    219\u001B[0m     msg \u001B[38;5;241m=\u001B[39m re\u001B[38;5;241m.\u001B[39msub(\n\u001B[0;32m    220\u001B[0m         \u001B[38;5;124mr\u001B[39m\u001B[38;5;124m\"\u001B[39m\u001B[38;5;124mparameter of \u001B[39m\u001B[38;5;124m\\\u001B[39m\u001B[38;5;124mw+ must be\u001B[39m\u001B[38;5;124m\"\u001B[39m,\n\u001B[0;32m    221\u001B[0m         \u001B[38;5;124mf\u001B[39m\u001B[38;5;124m\"\u001B[39m\u001B[38;5;124mparameter of \u001B[39m\u001B[38;5;132;01m{\u001B[39;00mfunc\u001B[38;5;241m.\u001B[39m\u001B[38;5;18m__qualname__\u001B[39m\u001B[38;5;132;01m}\u001B[39;00m\u001B[38;5;124m must be\u001B[39m\u001B[38;5;124m\"\u001B[39m,\n\u001B[0;32m    222\u001B[0m         \u001B[38;5;28mstr\u001B[39m(e),\n\u001B[0;32m    223\u001B[0m     )\n",
      "File \u001B[1;32mD:\\software\\Anaconda\\envs\\pytorchStudy\\Lib\\site-packages\\sklearn\\datasets\\_openml.py:1127\u001B[0m, in \u001B[0;36mfetch_openml\u001B[1;34m(name, version, data_id, data_home, target_column, cache, return_X_y, as_frame, n_retries, delay, parser, read_csv_kwargs)\u001B[0m\n\u001B[0;32m   1125\u001B[0m \u001B[38;5;66;03m# obtain the data\u001B[39;00m\n\u001B[0;32m   1126\u001B[0m url \u001B[38;5;241m=\u001B[39m _DATA_FILE\u001B[38;5;241m.\u001B[39mformat(data_description[\u001B[38;5;124m\"\u001B[39m\u001B[38;5;124mfile_id\u001B[39m\u001B[38;5;124m\"\u001B[39m])\n\u001B[1;32m-> 1127\u001B[0m bunch \u001B[38;5;241m=\u001B[39m _download_data_to_bunch(\n\u001B[0;32m   1128\u001B[0m     url,\n\u001B[0;32m   1129\u001B[0m     return_sparse,\n\u001B[0;32m   1130\u001B[0m     data_home,\n\u001B[0;32m   1131\u001B[0m     as_frame\u001B[38;5;241m=\u001B[39m\u001B[38;5;28mbool\u001B[39m(as_frame),\n\u001B[0;32m   1132\u001B[0m     openml_columns_info\u001B[38;5;241m=\u001B[39mfeatures_list,\n\u001B[0;32m   1133\u001B[0m     shape\u001B[38;5;241m=\u001B[39mshape,\n\u001B[0;32m   1134\u001B[0m     target_columns\u001B[38;5;241m=\u001B[39mtarget_columns,\n\u001B[0;32m   1135\u001B[0m     data_columns\u001B[38;5;241m=\u001B[39mdata_columns,\n\u001B[0;32m   1136\u001B[0m     md5_checksum\u001B[38;5;241m=\u001B[39mdata_description[\u001B[38;5;124m\"\u001B[39m\u001B[38;5;124mmd5_checksum\u001B[39m\u001B[38;5;124m\"\u001B[39m],\n\u001B[0;32m   1137\u001B[0m     n_retries\u001B[38;5;241m=\u001B[39mn_retries,\n\u001B[0;32m   1138\u001B[0m     delay\u001B[38;5;241m=\u001B[39mdelay,\n\u001B[0;32m   1139\u001B[0m     parser\u001B[38;5;241m=\u001B[39mparser_,\n\u001B[0;32m   1140\u001B[0m     read_csv_kwargs\u001B[38;5;241m=\u001B[39mread_csv_kwargs,\n\u001B[0;32m   1141\u001B[0m )\n\u001B[0;32m   1143\u001B[0m \u001B[38;5;28;01mif\u001B[39;00m return_X_y:\n\u001B[0;32m   1144\u001B[0m     \u001B[38;5;28;01mreturn\u001B[39;00m bunch\u001B[38;5;241m.\u001B[39mdata, bunch\u001B[38;5;241m.\u001B[39mtarget\n",
      "File \u001B[1;32mD:\\software\\Anaconda\\envs\\pytorchStudy\\Lib\\site-packages\\sklearn\\datasets\\_openml.py:681\u001B[0m, in \u001B[0;36m_download_data_to_bunch\u001B[1;34m(url, sparse, data_home, as_frame, openml_columns_info, data_columns, target_columns, shape, md5_checksum, n_retries, delay, parser, read_csv_kwargs)\u001B[0m\n\u001B[0;32m    677\u001B[0m     \u001B[38;5;28;01mfrom\u001B[39;00m \u001B[38;5;21;01mpandas\u001B[39;00m\u001B[38;5;21;01m.\u001B[39;00m\u001B[38;5;21;01merrors\u001B[39;00m \u001B[38;5;28;01mimport\u001B[39;00m ParserError\n\u001B[0;32m    679\u001B[0m     no_retry_exception \u001B[38;5;241m=\u001B[39m ParserError\n\u001B[1;32m--> 681\u001B[0m X, y, frame, categories \u001B[38;5;241m=\u001B[39m _retry_with_clean_cache(\n\u001B[0;32m    682\u001B[0m     url, data_home, no_retry_exception\n\u001B[0;32m    683\u001B[0m )(_load_arff_response)(\n\u001B[0;32m    684\u001B[0m     url,\n\u001B[0;32m    685\u001B[0m     data_home,\n\u001B[0;32m    686\u001B[0m     parser\u001B[38;5;241m=\u001B[39mparser,\n\u001B[0;32m    687\u001B[0m     output_type\u001B[38;5;241m=\u001B[39moutput_type,\n\u001B[0;32m    688\u001B[0m     openml_columns_info\u001B[38;5;241m=\u001B[39mfeatures_dict,\n\u001B[0;32m    689\u001B[0m     feature_names_to_select\u001B[38;5;241m=\u001B[39mdata_columns,\n\u001B[0;32m    690\u001B[0m     target_names_to_select\u001B[38;5;241m=\u001B[39mtarget_columns,\n\u001B[0;32m    691\u001B[0m     shape\u001B[38;5;241m=\u001B[39mshape,\n\u001B[0;32m    692\u001B[0m     md5_checksum\u001B[38;5;241m=\u001B[39mmd5_checksum,\n\u001B[0;32m    693\u001B[0m     n_retries\u001B[38;5;241m=\u001B[39mn_retries,\n\u001B[0;32m    694\u001B[0m     delay\u001B[38;5;241m=\u001B[39mdelay,\n\u001B[0;32m    695\u001B[0m     read_csv_kwargs\u001B[38;5;241m=\u001B[39mread_csv_kwargs,\n\u001B[0;32m    696\u001B[0m )\n\u001B[0;32m    698\u001B[0m \u001B[38;5;28;01mreturn\u001B[39;00m Bunch(\n\u001B[0;32m    699\u001B[0m     data\u001B[38;5;241m=\u001B[39mX,\n\u001B[0;32m    700\u001B[0m     target\u001B[38;5;241m=\u001B[39my,\n\u001B[1;32m   (...)\u001B[0m\n\u001B[0;32m    704\u001B[0m     target_names\u001B[38;5;241m=\u001B[39mtarget_columns,\n\u001B[0;32m    705\u001B[0m )\n",
      "File \u001B[1;32mD:\\software\\Anaconda\\envs\\pytorchStudy\\Lib\\site-packages\\sklearn\\datasets\\_openml.py:64\u001B[0m, in \u001B[0;36m_retry_with_clean_cache.<locals>.decorator.<locals>.wrapper\u001B[1;34m(*args, **kw)\u001B[0m\n\u001B[0;32m     62\u001B[0m     \u001B[38;5;28;01mreturn\u001B[39;00m f(\u001B[38;5;241m*\u001B[39margs, \u001B[38;5;241m*\u001B[39m\u001B[38;5;241m*\u001B[39mkw)\n\u001B[0;32m     63\u001B[0m \u001B[38;5;28;01mtry\u001B[39;00m:\n\u001B[1;32m---> 64\u001B[0m     \u001B[38;5;28;01mreturn\u001B[39;00m f(\u001B[38;5;241m*\u001B[39margs, \u001B[38;5;241m*\u001B[39m\u001B[38;5;241m*\u001B[39mkw)\n\u001B[0;32m     65\u001B[0m \u001B[38;5;28;01mexcept\u001B[39;00m URLError:\n\u001B[0;32m     66\u001B[0m     \u001B[38;5;28;01mraise\u001B[39;00m\n",
      "File \u001B[1;32mD:\\software\\Anaconda\\envs\\pytorchStudy\\Lib\\site-packages\\sklearn\\datasets\\_openml.py:516\u001B[0m, in \u001B[0;36m_load_arff_response\u001B[1;34m(url, data_home, parser, output_type, openml_columns_info, feature_names_to_select, target_names_to_select, shape, md5_checksum, n_retries, delay, read_csv_kwargs)\u001B[0m\n\u001B[0;32m    433\u001B[0m \u001B[38;5;28;01mdef\u001B[39;00m \u001B[38;5;21m_load_arff_response\u001B[39m(\n\u001B[0;32m    434\u001B[0m     url: \u001B[38;5;28mstr\u001B[39m,\n\u001B[0;32m    435\u001B[0m     data_home: Optional[\u001B[38;5;28mstr\u001B[39m],\n\u001B[1;32m   (...)\u001B[0m\n\u001B[0;32m    445\u001B[0m     read_csv_kwargs: Optional[Dict] \u001B[38;5;241m=\u001B[39m \u001B[38;5;28;01mNone\u001B[39;00m,\n\u001B[0;32m    446\u001B[0m ):\n\u001B[0;32m    447\u001B[0m \u001B[38;5;250m    \u001B[39m\u001B[38;5;124;03m\"\"\"Load the ARFF data associated with the OpenML URL.\u001B[39;00m\n\u001B[0;32m    448\u001B[0m \n\u001B[0;32m    449\u001B[0m \u001B[38;5;124;03m    In addition of loading the data, this function will also check the\u001B[39;00m\n\u001B[1;32m   (...)\u001B[0m\n\u001B[0;32m    514\u001B[0m \u001B[38;5;124;03m        `output_array_type == \"pandas\"`.\u001B[39;00m\n\u001B[0;32m    515\u001B[0m \u001B[38;5;124;03m    \"\"\"\u001B[39;00m\n\u001B[1;32m--> 516\u001B[0m     gzip_file \u001B[38;5;241m=\u001B[39m _open_openml_url(url, data_home, n_retries\u001B[38;5;241m=\u001B[39mn_retries, delay\u001B[38;5;241m=\u001B[39mdelay)\n\u001B[0;32m    517\u001B[0m     \u001B[38;5;28;01mwith\u001B[39;00m closing(gzip_file):\n\u001B[0;32m    518\u001B[0m         md5 \u001B[38;5;241m=\u001B[39m hashlib\u001B[38;5;241m.\u001B[39mmd5()\n",
      "File \u001B[1;32mD:\\software\\Anaconda\\envs\\pytorchStudy\\Lib\\site-packages\\sklearn\\datasets\\_openml.py:180\u001B[0m, in \u001B[0;36m_open_openml_url\u001B[1;34m(openml_path, data_home, n_retries, delay)\u001B[0m\n\u001B[0;32m    178\u001B[0m                 opener \u001B[38;5;241m=\u001B[39m gzip\u001B[38;5;241m.\u001B[39mGzipFile\n\u001B[0;32m    179\u001B[0m             \u001B[38;5;28;01mwith\u001B[39;00m opener(os\u001B[38;5;241m.\u001B[39mpath\u001B[38;5;241m.\u001B[39mjoin(tmpdir, file_name), \u001B[38;5;124m\"\u001B[39m\u001B[38;5;124mwb\u001B[39m\u001B[38;5;124m\"\u001B[39m) \u001B[38;5;28;01mas\u001B[39;00m fdst:\n\u001B[1;32m--> 180\u001B[0m                 shutil\u001B[38;5;241m.\u001B[39mcopyfileobj(fsrc, fdst)\n\u001B[0;32m    181\u001B[0m         shutil\u001B[38;5;241m.\u001B[39mmove(fdst\u001B[38;5;241m.\u001B[39mname, local_path)\n\u001B[0;32m    182\u001B[0m \u001B[38;5;28;01mexcept\u001B[39;00m \u001B[38;5;167;01mException\u001B[39;00m:\n",
      "File \u001B[1;32mD:\\software\\Anaconda\\envs\\pytorchStudy\\Lib\\shutil.py:203\u001B[0m, in \u001B[0;36mcopyfileobj\u001B[1;34m(fsrc, fdst, length)\u001B[0m\n\u001B[0;32m    201\u001B[0m fsrc_read \u001B[38;5;241m=\u001B[39m fsrc\u001B[38;5;241m.\u001B[39mread\n\u001B[0;32m    202\u001B[0m fdst_write \u001B[38;5;241m=\u001B[39m fdst\u001B[38;5;241m.\u001B[39mwrite\n\u001B[1;32m--> 203\u001B[0m \u001B[38;5;28;01mwhile\u001B[39;00m buf \u001B[38;5;241m:=\u001B[39m fsrc_read(length):\n\u001B[0;32m    204\u001B[0m     fdst_write(buf)\n",
      "File \u001B[1;32mD:\\software\\Anaconda\\envs\\pytorchStudy\\Lib\\http\\client.py:473\u001B[0m, in \u001B[0;36mHTTPResponse.read\u001B[1;34m(self, amt)\u001B[0m\n\u001B[0;32m    470\u001B[0m     \u001B[38;5;28;01mreturn\u001B[39;00m \u001B[38;5;124mb\u001B[39m\u001B[38;5;124m\"\u001B[39m\u001B[38;5;124m\"\u001B[39m\n\u001B[0;32m    472\u001B[0m \u001B[38;5;28;01mif\u001B[39;00m \u001B[38;5;28mself\u001B[39m\u001B[38;5;241m.\u001B[39mchunked:\n\u001B[1;32m--> 473\u001B[0m     \u001B[38;5;28;01mreturn\u001B[39;00m \u001B[38;5;28mself\u001B[39m\u001B[38;5;241m.\u001B[39m_read_chunked(amt)\n\u001B[0;32m    475\u001B[0m \u001B[38;5;28;01mif\u001B[39;00m amt \u001B[38;5;129;01mis\u001B[39;00m \u001B[38;5;129;01mnot\u001B[39;00m \u001B[38;5;28;01mNone\u001B[39;00m:\n\u001B[0;32m    476\u001B[0m     \u001B[38;5;28;01mif\u001B[39;00m \u001B[38;5;28mself\u001B[39m\u001B[38;5;241m.\u001B[39mlength \u001B[38;5;129;01mis\u001B[39;00m \u001B[38;5;129;01mnot\u001B[39;00m \u001B[38;5;28;01mNone\u001B[39;00m \u001B[38;5;129;01mand\u001B[39;00m amt \u001B[38;5;241m>\u001B[39m \u001B[38;5;28mself\u001B[39m\u001B[38;5;241m.\u001B[39mlength:\n\u001B[0;32m    477\u001B[0m         \u001B[38;5;66;03m# clip the read to the \"end of response\"\u001B[39;00m\n",
      "File \u001B[1;32mD:\\software\\Anaconda\\envs\\pytorchStudy\\Lib\\http\\client.py:601\u001B[0m, in \u001B[0;36mHTTPResponse._read_chunked\u001B[1;34m(self, amt)\u001B[0m\n\u001B[0;32m    598\u001B[0m     \u001B[38;5;28mself\u001B[39m\u001B[38;5;241m.\u001B[39mchunk_left \u001B[38;5;241m=\u001B[39m chunk_left \u001B[38;5;241m-\u001B[39m amt\n\u001B[0;32m    599\u001B[0m     \u001B[38;5;28;01mbreak\u001B[39;00m\n\u001B[1;32m--> 601\u001B[0m value\u001B[38;5;241m.\u001B[39mappend(\u001B[38;5;28mself\u001B[39m\u001B[38;5;241m.\u001B[39m_safe_read(chunk_left))\n\u001B[0;32m    602\u001B[0m \u001B[38;5;28;01mif\u001B[39;00m amt \u001B[38;5;129;01mis\u001B[39;00m \u001B[38;5;129;01mnot\u001B[39;00m \u001B[38;5;28;01mNone\u001B[39;00m:\n\u001B[0;32m    603\u001B[0m     amt \u001B[38;5;241m-\u001B[39m\u001B[38;5;241m=\u001B[39m chunk_left\n",
      "File \u001B[1;32mD:\\software\\Anaconda\\envs\\pytorchStudy\\Lib\\http\\client.py:640\u001B[0m, in \u001B[0;36mHTTPResponse._safe_read\u001B[1;34m(self, amt)\u001B[0m\n\u001B[0;32m    633\u001B[0m \u001B[38;5;28;01mdef\u001B[39;00m \u001B[38;5;21m_safe_read\u001B[39m(\u001B[38;5;28mself\u001B[39m, amt):\n\u001B[0;32m    634\u001B[0m \u001B[38;5;250m    \u001B[39m\u001B[38;5;124;03m\"\"\"Read the number of bytes requested.\u001B[39;00m\n\u001B[0;32m    635\u001B[0m \n\u001B[0;32m    636\u001B[0m \u001B[38;5;124;03m    This function should be used when <amt> bytes \"should\" be present for\u001B[39;00m\n\u001B[0;32m    637\u001B[0m \u001B[38;5;124;03m    reading. If the bytes are truly not available (due to EOF), then the\u001B[39;00m\n\u001B[0;32m    638\u001B[0m \u001B[38;5;124;03m    IncompleteRead exception can be used to detect the problem.\u001B[39;00m\n\u001B[0;32m    639\u001B[0m \u001B[38;5;124;03m    \"\"\"\u001B[39;00m\n\u001B[1;32m--> 640\u001B[0m     data \u001B[38;5;241m=\u001B[39m \u001B[38;5;28mself\u001B[39m\u001B[38;5;241m.\u001B[39mfp\u001B[38;5;241m.\u001B[39mread(amt)\n\u001B[0;32m    641\u001B[0m     \u001B[38;5;28;01mif\u001B[39;00m \u001B[38;5;28mlen\u001B[39m(data) \u001B[38;5;241m<\u001B[39m amt:\n\u001B[0;32m    642\u001B[0m         \u001B[38;5;28;01mraise\u001B[39;00m IncompleteRead(data, amt\u001B[38;5;241m-\u001B[39m\u001B[38;5;28mlen\u001B[39m(data))\n",
      "File \u001B[1;32mD:\\software\\Anaconda\\envs\\pytorchStudy\\Lib\\socket.py:708\u001B[0m, in \u001B[0;36mSocketIO.readinto\u001B[1;34m(self, b)\u001B[0m\n\u001B[0;32m    706\u001B[0m \u001B[38;5;28;01mwhile\u001B[39;00m \u001B[38;5;28;01mTrue\u001B[39;00m:\n\u001B[0;32m    707\u001B[0m     \u001B[38;5;28;01mtry\u001B[39;00m:\n\u001B[1;32m--> 708\u001B[0m         \u001B[38;5;28;01mreturn\u001B[39;00m \u001B[38;5;28mself\u001B[39m\u001B[38;5;241m.\u001B[39m_sock\u001B[38;5;241m.\u001B[39mrecv_into(b)\n\u001B[0;32m    709\u001B[0m     \u001B[38;5;28;01mexcept\u001B[39;00m timeout:\n\u001B[0;32m    710\u001B[0m         \u001B[38;5;28mself\u001B[39m\u001B[38;5;241m.\u001B[39m_timeout_occurred \u001B[38;5;241m=\u001B[39m \u001B[38;5;28;01mTrue\u001B[39;00m\n",
      "File \u001B[1;32mD:\\software\\Anaconda\\envs\\pytorchStudy\\Lib\\ssl.py:1252\u001B[0m, in \u001B[0;36mSSLSocket.recv_into\u001B[1;34m(self, buffer, nbytes, flags)\u001B[0m\n\u001B[0;32m   1248\u001B[0m     \u001B[38;5;28;01mif\u001B[39;00m flags \u001B[38;5;241m!=\u001B[39m \u001B[38;5;241m0\u001B[39m:\n\u001B[0;32m   1249\u001B[0m         \u001B[38;5;28;01mraise\u001B[39;00m \u001B[38;5;167;01mValueError\u001B[39;00m(\n\u001B[0;32m   1250\u001B[0m           \u001B[38;5;124m\"\u001B[39m\u001B[38;5;124mnon-zero flags not allowed in calls to recv_into() on \u001B[39m\u001B[38;5;132;01m%s\u001B[39;00m\u001B[38;5;124m\"\u001B[39m \u001B[38;5;241m%\u001B[39m\n\u001B[0;32m   1251\u001B[0m           \u001B[38;5;28mself\u001B[39m\u001B[38;5;241m.\u001B[39m\u001B[38;5;18m__class__\u001B[39m)\n\u001B[1;32m-> 1252\u001B[0m     \u001B[38;5;28;01mreturn\u001B[39;00m \u001B[38;5;28mself\u001B[39m\u001B[38;5;241m.\u001B[39mread(nbytes, buffer)\n\u001B[0;32m   1253\u001B[0m \u001B[38;5;28;01melse\u001B[39;00m:\n\u001B[0;32m   1254\u001B[0m     \u001B[38;5;28;01mreturn\u001B[39;00m \u001B[38;5;28msuper\u001B[39m()\u001B[38;5;241m.\u001B[39mrecv_into(buffer, nbytes, flags)\n",
      "File \u001B[1;32mD:\\software\\Anaconda\\envs\\pytorchStudy\\Lib\\ssl.py:1104\u001B[0m, in \u001B[0;36mSSLSocket.read\u001B[1;34m(self, len, buffer)\u001B[0m\n\u001B[0;32m   1102\u001B[0m \u001B[38;5;28;01mtry\u001B[39;00m:\n\u001B[0;32m   1103\u001B[0m     \u001B[38;5;28;01mif\u001B[39;00m buffer \u001B[38;5;129;01mis\u001B[39;00m \u001B[38;5;129;01mnot\u001B[39;00m \u001B[38;5;28;01mNone\u001B[39;00m:\n\u001B[1;32m-> 1104\u001B[0m         \u001B[38;5;28;01mreturn\u001B[39;00m \u001B[38;5;28mself\u001B[39m\u001B[38;5;241m.\u001B[39m_sslobj\u001B[38;5;241m.\u001B[39mread(\u001B[38;5;28mlen\u001B[39m, buffer)\n\u001B[0;32m   1105\u001B[0m     \u001B[38;5;28;01melse\u001B[39;00m:\n\u001B[0;32m   1106\u001B[0m         \u001B[38;5;28;01mreturn\u001B[39;00m \u001B[38;5;28mself\u001B[39m\u001B[38;5;241m.\u001B[39m_sslobj\u001B[38;5;241m.\u001B[39mread(\u001B[38;5;28mlen\u001B[39m)\n",
      "\u001B[1;31mKeyboardInterrupt\u001B[0m: "
     ]
    }
   ],
   "execution_count": 4
  },
  {
   "metadata": {},
   "cell_type": "code",
   "outputs": [],
   "execution_count": null,
   "source": "",
   "id": "e7382d9dc9e0298f"
  }
 ],
 "metadata": {
  "kernelspec": {
   "display_name": "Python 3",
   "language": "python",
   "name": "python3"
  },
  "language_info": {
   "codemirror_mode": {
    "name": "ipython",
    "version": 2
   },
   "file_extension": ".py",
   "mimetype": "text/x-python",
   "name": "python",
   "nbconvert_exporter": "python",
   "pygments_lexer": "ipython2",
   "version": "2.7.6"
  }
 },
 "nbformat": 4,
 "nbformat_minor": 5
}
