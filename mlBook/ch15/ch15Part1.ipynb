{
 "cells": [
  {
   "cell_type": "code",
   "id": "initial_id",
   "metadata": {
    "collapsed": true,
    "ExecuteTime": {
     "end_time": "2024-09-17T04:52:28.795200Z",
     "start_time": "2024-09-17T04:52:28.657749Z"
    }
   },
   "source": [
    "import numpy as np  \n",
    "  \n",
    "# 定义输入数据  \n",
    "x = np.array([1.0, 2.0, 3.0, 4.0, 5.0])  \n",
    "  \n",
    "# 计算tanh函数值  \n",
    "tanh_values = np.tanh(x)  \n",
    "\n",
    "# 计算均值和标准差  \n",
    "mean = np.mean(tanh_values)  \n",
    "stddev = np.std(tanh_values)  \n",
    "  \n",
    "# 标准化tanh函数值  \n",
    "normalized_tanh_values = (tanh_values - mean) / stddev  \n",
    "\n",
    "# 打印结果  \n",
    "print(\"原始数据:\", x)  \n",
    "print(\"tanh函数值:\", tanh_values)  \n",
    "print(\"标准化后的tanh函数值:\", normalized_tanh_values)"
   ],
   "outputs": [
    {
     "name": "stdout",
     "output_type": "stream",
     "text": [
      "原始数据: [1. 2. 3. 4. 5.]\n",
      "tanh函数值: [0.76159416 0.96402758 0.99505475 0.9993293  0.9999092 ]\n",
      "标准化后的tanh函数值: [-1.979059    0.2174991   0.55416776  0.60054987  0.60684228]\n"
     ]
    }
   ],
   "execution_count": 1
  }
 ],
 "metadata": {
  "kernelspec": {
   "display_name": "Python 3",
   "language": "python",
   "name": "python3"
  },
  "language_info": {
   "codemirror_mode": {
    "name": "ipython",
    "version": 2
   },
   "file_extension": ".py",
   "mimetype": "text/x-python",
   "name": "python",
   "nbconvert_exporter": "python",
   "pygments_lexer": "ipython2",
   "version": "2.7.6"
  }
 },
 "nbformat": 4,
 "nbformat_minor": 5
}
