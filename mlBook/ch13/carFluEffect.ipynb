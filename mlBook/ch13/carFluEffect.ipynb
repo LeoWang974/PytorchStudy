{
 "cells": [
  {
   "cell_type": "code",
   "id": "initial_id",
   "metadata": {
    "collapsed": true,
    "ExecuteTime": {
     "end_time": "2024-10-14T06:51:15.269504Z",
     "start_time": "2024-10-14T06:51:15.265958Z"
    }
   },
   "source": [
    "import sys\n",
    "import numpy as np\n",
    "import torch\n",
    "import torch.nn as nn\n",
    "import pandas as pd\n",
    "import sklearn\n",
    "import sklearn.model_selection\n",
    "from torch.nn.functional import one_hot\n",
    "from torch.utils.data import DataLoader, TensorDataset\n",
    "import torchvision \n",
    "from torchvision import transforms "
   ],
   "outputs": [],
   "execution_count": 11
  },
  {
   "metadata": {
    "ExecuteTime": {
     "end_time": "2024-10-14T06:51:16.262170Z",
     "start_time": "2024-10-14T06:51:15.298647Z"
    }
   },
   "cell_type": "code",
   "source": [
    "url = 'http://archive.ics.uci.edu/ml/machine-learning-databases/auto-mpg/auto-mpg.data'\n",
    "column_names = ['MPG', 'Cylinders', 'Displacement', 'Horsepower', 'Weight',\n",
    "                'Acceleration', 'Model Year', 'Origin']\n",
    "\n",
    "df = pd.read_csv(url, names=column_names,\n",
    "                 na_values = \"?\", comment='\\t',\n",
    "                 sep=\" \", skipinitialspace=True)\n",
    "\n",
    "df.tail()"
   ],
   "id": "b275d491fad0866e",
   "outputs": [
    {
     "data": {
      "text/plain": [
       "      MPG  Cylinders  Displacement  Horsepower  Weight  Acceleration  \\\n",
       "393  27.0          4         140.0        86.0  2790.0          15.6   \n",
       "394  44.0          4          97.0        52.0  2130.0          24.6   \n",
       "395  32.0          4         135.0        84.0  2295.0          11.6   \n",
       "396  28.0          4         120.0        79.0  2625.0          18.6   \n",
       "397  31.0          4         119.0        82.0  2720.0          19.4   \n",
       "\n",
       "     Model Year  Origin  \n",
       "393          82       1  \n",
       "394          82       2  \n",
       "395          82       1  \n",
       "396          82       1  \n",
       "397          82       1  "
      ],
      "text/html": [
       "<div>\n",
       "<style scoped>\n",
       "    .dataframe tbody tr th:only-of-type {\n",
       "        vertical-align: middle;\n",
       "    }\n",
       "\n",
       "    .dataframe tbody tr th {\n",
       "        vertical-align: top;\n",
       "    }\n",
       "\n",
       "    .dataframe thead th {\n",
       "        text-align: right;\n",
       "    }\n",
       "</style>\n",
       "<table border=\"1\" class=\"dataframe\">\n",
       "  <thead>\n",
       "    <tr style=\"text-align: right;\">\n",
       "      <th></th>\n",
       "      <th>MPG</th>\n",
       "      <th>Cylinders</th>\n",
       "      <th>Displacement</th>\n",
       "      <th>Horsepower</th>\n",
       "      <th>Weight</th>\n",
       "      <th>Acceleration</th>\n",
       "      <th>Model Year</th>\n",
       "      <th>Origin</th>\n",
       "    </tr>\n",
       "  </thead>\n",
       "  <tbody>\n",
       "    <tr>\n",
       "      <th>393</th>\n",
       "      <td>27.0</td>\n",
       "      <td>4</td>\n",
       "      <td>140.0</td>\n",
       "      <td>86.0</td>\n",
       "      <td>2790.0</td>\n",
       "      <td>15.6</td>\n",
       "      <td>82</td>\n",
       "      <td>1</td>\n",
       "    </tr>\n",
       "    <tr>\n",
       "      <th>394</th>\n",
       "      <td>44.0</td>\n",
       "      <td>4</td>\n",
       "      <td>97.0</td>\n",
       "      <td>52.0</td>\n",
       "      <td>2130.0</td>\n",
       "      <td>24.6</td>\n",
       "      <td>82</td>\n",
       "      <td>2</td>\n",
       "    </tr>\n",
       "    <tr>\n",
       "      <th>395</th>\n",
       "      <td>32.0</td>\n",
       "      <td>4</td>\n",
       "      <td>135.0</td>\n",
       "      <td>84.0</td>\n",
       "      <td>2295.0</td>\n",
       "      <td>11.6</td>\n",
       "      <td>82</td>\n",
       "      <td>1</td>\n",
       "    </tr>\n",
       "    <tr>\n",
       "      <th>396</th>\n",
       "      <td>28.0</td>\n",
       "      <td>4</td>\n",
       "      <td>120.0</td>\n",
       "      <td>79.0</td>\n",
       "      <td>2625.0</td>\n",
       "      <td>18.6</td>\n",
       "      <td>82</td>\n",
       "      <td>1</td>\n",
       "    </tr>\n",
       "    <tr>\n",
       "      <th>397</th>\n",
       "      <td>31.0</td>\n",
       "      <td>4</td>\n",
       "      <td>119.0</td>\n",
       "      <td>82.0</td>\n",
       "      <td>2720.0</td>\n",
       "      <td>19.4</td>\n",
       "      <td>82</td>\n",
       "      <td>1</td>\n",
       "    </tr>\n",
       "  </tbody>\n",
       "</table>\n",
       "</div>"
      ]
     },
     "execution_count": 12,
     "metadata": {},
     "output_type": "execute_result"
    }
   ],
   "execution_count": 12
  },
  {
   "metadata": {
    "ExecuteTime": {
     "end_time": "2024-10-14T06:51:16.343950Z",
     "start_time": "2024-10-14T06:51:16.324809Z"
    }
   },
   "cell_type": "code",
   "source": [
    "#数据预处理\n",
    "df = df.dropna()\n",
    "df = df.reset_index(drop=True)\n",
    "df.tail()\n",
    "\n",
    "df_train, df_test = sklearn.model_selection.train_test_split(df, train_size=0.8, random_state=1)\n",
    "train_stats = df_train.describe().transpose()\n",
    "train_stats"
   ],
   "id": "4abd605bceaa4e47",
   "outputs": [
    {
     "data": {
      "text/plain": [
       "              count         mean         std     min     25%     50%     75%  \\\n",
       "MPG           313.0    23.404153    7.666909     9.0    17.5    23.0    29.0   \n",
       "Cylinders     313.0     5.402556    1.701506     3.0     4.0     4.0     8.0   \n",
       "Displacement  313.0   189.512780  102.675646    68.0   104.0   140.0   260.0   \n",
       "Horsepower    313.0   102.929712   37.919046    46.0    75.0    92.0   120.0   \n",
       "Weight        313.0  2961.198083  848.602146  1613.0  2219.0  2755.0  3574.0   \n",
       "Acceleration  313.0    15.704473    2.725399     8.5    14.0    15.5    17.3   \n",
       "Model Year    313.0    75.929712    3.675305    70.0    73.0    76.0    79.0   \n",
       "Origin        313.0     1.591054    0.807923     1.0     1.0     1.0     2.0   \n",
       "\n",
       "                 max  \n",
       "MPG             46.6  \n",
       "Cylinders        8.0  \n",
       "Displacement   455.0  \n",
       "Horsepower     230.0  \n",
       "Weight        5140.0  \n",
       "Acceleration    24.8  \n",
       "Model Year      82.0  \n",
       "Origin           3.0  "
      ],
      "text/html": [
       "<div>\n",
       "<style scoped>\n",
       "    .dataframe tbody tr th:only-of-type {\n",
       "        vertical-align: middle;\n",
       "    }\n",
       "\n",
       "    .dataframe tbody tr th {\n",
       "        vertical-align: top;\n",
       "    }\n",
       "\n",
       "    .dataframe thead th {\n",
       "        text-align: right;\n",
       "    }\n",
       "</style>\n",
       "<table border=\"1\" class=\"dataframe\">\n",
       "  <thead>\n",
       "    <tr style=\"text-align: right;\">\n",
       "      <th></th>\n",
       "      <th>count</th>\n",
       "      <th>mean</th>\n",
       "      <th>std</th>\n",
       "      <th>min</th>\n",
       "      <th>25%</th>\n",
       "      <th>50%</th>\n",
       "      <th>75%</th>\n",
       "      <th>max</th>\n",
       "    </tr>\n",
       "  </thead>\n",
       "  <tbody>\n",
       "    <tr>\n",
       "      <th>MPG</th>\n",
       "      <td>313.0</td>\n",
       "      <td>23.404153</td>\n",
       "      <td>7.666909</td>\n",
       "      <td>9.0</td>\n",
       "      <td>17.5</td>\n",
       "      <td>23.0</td>\n",
       "      <td>29.0</td>\n",
       "      <td>46.6</td>\n",
       "    </tr>\n",
       "    <tr>\n",
       "      <th>Cylinders</th>\n",
       "      <td>313.0</td>\n",
       "      <td>5.402556</td>\n",
       "      <td>1.701506</td>\n",
       "      <td>3.0</td>\n",
       "      <td>4.0</td>\n",
       "      <td>4.0</td>\n",
       "      <td>8.0</td>\n",
       "      <td>8.0</td>\n",
       "    </tr>\n",
       "    <tr>\n",
       "      <th>Displacement</th>\n",
       "      <td>313.0</td>\n",
       "      <td>189.512780</td>\n",
       "      <td>102.675646</td>\n",
       "      <td>68.0</td>\n",
       "      <td>104.0</td>\n",
       "      <td>140.0</td>\n",
       "      <td>260.0</td>\n",
       "      <td>455.0</td>\n",
       "    </tr>\n",
       "    <tr>\n",
       "      <th>Horsepower</th>\n",
       "      <td>313.0</td>\n",
       "      <td>102.929712</td>\n",
       "      <td>37.919046</td>\n",
       "      <td>46.0</td>\n",
       "      <td>75.0</td>\n",
       "      <td>92.0</td>\n",
       "      <td>120.0</td>\n",
       "      <td>230.0</td>\n",
       "    </tr>\n",
       "    <tr>\n",
       "      <th>Weight</th>\n",
       "      <td>313.0</td>\n",
       "      <td>2961.198083</td>\n",
       "      <td>848.602146</td>\n",
       "      <td>1613.0</td>\n",
       "      <td>2219.0</td>\n",
       "      <td>2755.0</td>\n",
       "      <td>3574.0</td>\n",
       "      <td>5140.0</td>\n",
       "    </tr>\n",
       "    <tr>\n",
       "      <th>Acceleration</th>\n",
       "      <td>313.0</td>\n",
       "      <td>15.704473</td>\n",
       "      <td>2.725399</td>\n",
       "      <td>8.5</td>\n",
       "      <td>14.0</td>\n",
       "      <td>15.5</td>\n",
       "      <td>17.3</td>\n",
       "      <td>24.8</td>\n",
       "    </tr>\n",
       "    <tr>\n",
       "      <th>Model Year</th>\n",
       "      <td>313.0</td>\n",
       "      <td>75.929712</td>\n",
       "      <td>3.675305</td>\n",
       "      <td>70.0</td>\n",
       "      <td>73.0</td>\n",
       "      <td>76.0</td>\n",
       "      <td>79.0</td>\n",
       "      <td>82.0</td>\n",
       "    </tr>\n",
       "    <tr>\n",
       "      <th>Origin</th>\n",
       "      <td>313.0</td>\n",
       "      <td>1.591054</td>\n",
       "      <td>0.807923</td>\n",
       "      <td>1.0</td>\n",
       "      <td>1.0</td>\n",
       "      <td>1.0</td>\n",
       "      <td>2.0</td>\n",
       "      <td>3.0</td>\n",
       "    </tr>\n",
       "  </tbody>\n",
       "</table>\n",
       "</div>"
      ]
     },
     "execution_count": 13,
     "metadata": {},
     "output_type": "execute_result"
    }
   ],
   "execution_count": 13
  },
  {
   "metadata": {
    "ExecuteTime": {
     "end_time": "2024-10-14T06:51:16.413216Z",
     "start_time": "2024-10-14T06:51:16.398206Z"
    }
   },
   "cell_type": "code",
   "source": [
    "numeric_column_names = ['Cylinders', 'Displacement', 'Horsepower', 'Weight', 'Acceleration']\n",
    "\n",
    "df_train_norm, df_test_norm = df_train.copy(), df_test.copy()\n",
    "\n",
    "for col_name in numeric_column_names:\n",
    "    mean = train_stats.loc[col_name, 'mean']\n",
    "    std  = train_stats.loc[col_name, 'std']\n",
    "    df_train_norm.loc[:, col_name] = (df_train_norm.loc[:, col_name] - mean)/std\n",
    "    df_test_norm.loc[:, col_name] = (df_test_norm.loc[:, col_name] - mean)/std\n",
    "    \n",
    "df_train_norm.tail()"
   ],
   "id": "6a5c29296b8b3f65",
   "outputs": [
    {
     "name": "stderr",
     "output_type": "stream",
     "text": [
      "C:\\Users\\WangBo\\AppData\\Local\\Temp\\ipykernel_15252\\3363825301.py:8: FutureWarning: Setting an item of incompatible dtype is deprecated and will raise in a future error of pandas. Value '[-0.8243028   0.3511267  -0.8243028  -0.8243028  -0.8243028   1.52655621\n",
      "  0.3511267  -0.8243028  -0.8243028  -0.8243028   0.3511267  -0.8243028\n",
      "  0.3511267   1.52655621  1.52655621  1.52655621  0.3511267   1.52655621\n",
      " -0.8243028   0.3511267   1.52655621 -0.8243028  -0.8243028   0.3511267\n",
      " -0.8243028  -0.8243028  -0.8243028   0.3511267  -0.8243028   1.52655621\n",
      "  0.3511267  -0.8243028   0.3511267  -0.8243028  -0.8243028   1.52655621\n",
      " -0.8243028   1.52655621  1.52655621 -0.8243028  -0.8243028  -0.8243028\n",
      " -0.8243028   0.3511267  -0.8243028   1.52655621 -0.8243028  -0.8243028\n",
      "  1.52655621 -0.8243028  -0.8243028  -0.8243028   1.52655621  1.52655621\n",
      "  0.3511267   0.3511267   1.52655621 -0.8243028  -0.8243028   1.52655621\n",
      "  1.52655621 -0.8243028  -0.8243028   0.3511267   1.52655621 -0.8243028\n",
      "  0.3511267  -0.8243028   1.52655621  1.52655621 -0.8243028  -0.8243028\n",
      " -1.41201755  1.52655621  0.3511267   1.52655621 -0.8243028  -0.8243028\n",
      " -0.8243028   1.52655621  1.52655621  0.3511267   0.3511267   1.52655621\n",
      " -0.8243028   1.52655621 -0.23658805 -0.8243028  -0.8243028   0.3511267\n",
      "  0.3511267  -1.41201755 -0.8243028   1.52655621 -0.8243028   1.52655621\n",
      " -0.8243028   1.52655621  0.3511267  -0.8243028   0.3511267  -1.41201755\n",
      "  0.3511267  -0.8243028  -0.8243028  -0.8243028  -0.8243028  -0.8243028\n",
      " -0.8243028   1.52655621  1.52655621 -0.8243028   0.3511267  -0.8243028\n",
      " -0.8243028   0.3511267   1.52655621 -0.8243028  -0.8243028   0.3511267\n",
      "  0.3511267  -0.8243028  -0.8243028  -0.23658805 -0.8243028   0.3511267\n",
      "  0.3511267   0.3511267  -0.8243028   1.52655621  1.52655621 -0.8243028\n",
      "  0.3511267   1.52655621  1.52655621 -0.8243028   0.3511267   0.3511267\n",
      " -0.8243028  -0.8243028  -0.8243028  -0.8243028   1.52655621 -0.8243028\n",
      " -0.8243028   0.3511267  -0.8243028  -0.8243028   1.52655621 -0.8243028\n",
      "  1.52655621 -0.8243028  -0.8243028   1.52655621  1.52655621 -0.8243028\n",
      "  0.3511267  -0.8243028   1.52655621  0.3511267  -0.8243028   1.52655621\n",
      " -0.8243028  -0.8243028   1.52655621  1.52655621 -0.8243028   1.52655621\n",
      "  0.3511267  -0.8243028  -0.8243028   0.3511267   1.52655621  1.52655621\n",
      " -0.8243028  -0.8243028  -0.8243028  -0.8243028  -0.8243028  -0.8243028\n",
      " -0.8243028   1.52655621 -0.8243028   0.3511267   1.52655621 -0.8243028\n",
      " -0.23658805 -0.8243028  -0.8243028  -0.8243028  -0.8243028  -0.8243028\n",
      "  0.3511267  -0.8243028  -0.8243028   1.52655621  1.52655621 -0.8243028\n",
      "  1.52655621 -0.8243028   1.52655621 -0.8243028  -0.8243028  -0.8243028\n",
      " -0.8243028   0.3511267  -0.8243028   1.52655621 -0.8243028   0.3511267\n",
      "  1.52655621 -0.8243028  -0.8243028  -0.8243028   0.3511267  -0.8243028\n",
      " -0.8243028  -0.8243028  -0.8243028   0.3511267  -0.8243028   1.52655621\n",
      " -0.8243028  -0.8243028  -0.8243028   1.52655621 -0.8243028   1.52655621\n",
      " -0.8243028   0.3511267  -0.8243028   0.3511267  -0.8243028  -0.8243028\n",
      "  0.3511267   1.52655621 -0.8243028   0.3511267   1.52655621  0.3511267\n",
      " -0.8243028  -0.8243028  -0.8243028   1.52655621  1.52655621 -0.8243028\n",
      " -0.8243028  -0.8243028   1.52655621  0.3511267   0.3511267  -0.8243028\n",
      " -0.8243028  -0.8243028   1.52655621  0.3511267   0.3511267   0.3511267\n",
      "  1.52655621 -0.8243028   1.52655621  0.3511267  -0.8243028  -0.8243028\n",
      " -0.8243028  -0.8243028   1.52655621 -0.8243028   1.52655621 -0.8243028\n",
      "  1.52655621 -0.8243028  -0.8243028  -0.8243028  -0.8243028  -0.8243028\n",
      "  1.52655621 -0.8243028  -0.8243028  -0.8243028   0.3511267  -0.8243028\n",
      "  1.52655621 -0.8243028  -0.8243028  -0.8243028  -0.8243028   1.52655621\n",
      " -0.8243028   1.52655621 -0.8243028  -1.41201755 -0.8243028   1.52655621\n",
      " -0.8243028   1.52655621  0.3511267   0.3511267   0.3511267  -0.8243028\n",
      " -0.8243028   0.3511267  -0.8243028   1.52655621 -0.8243028  -0.8243028\n",
      " -0.8243028   0.3511267  -0.8243028   0.3511267   1.52655621 -0.8243028\n",
      "  1.52655621]' has dtype incompatible with int64, please explicitly cast to a compatible dtype first.\n",
      "  df_train_norm.loc[:, col_name] = (df_train_norm.loc[:, col_name] - mean)/std\n",
      "C:\\Users\\WangBo\\AppData\\Local\\Temp\\ipykernel_15252\\3363825301.py:9: FutureWarning: Setting an item of incompatible dtype is deprecated and will raise in a future error of pandas. Value '[-0.8243028  -0.8243028  -0.8243028  -0.8243028  -0.8243028  -0.8243028\n",
      " -0.8243028   1.52655621 -0.8243028  -0.8243028   0.3511267  -0.8243028\n",
      "  1.52655621 -0.8243028  -0.8243028   1.52655621 -0.8243028  -0.8243028\n",
      "  1.52655621  0.3511267  -0.8243028   0.3511267   1.52655621  1.52655621\n",
      "  1.52655621  1.52655621 -0.8243028   0.3511267   0.3511267  -0.8243028\n",
      "  1.52655621 -0.8243028   1.52655621  0.3511267   0.3511267   1.52655621\n",
      "  0.3511267   0.3511267  -0.8243028  -0.8243028   1.52655621  1.52655621\n",
      "  0.3511267   0.3511267   0.3511267   0.3511267   1.52655621 -0.8243028\n",
      "  0.3511267   1.52655621  1.52655621  0.3511267  -0.8243028  -0.8243028\n",
      " -0.8243028   0.3511267   0.3511267   0.3511267  -0.8243028  -0.8243028\n",
      "  0.3511267  -0.8243028  -0.8243028   1.52655621  0.3511267   0.3511267\n",
      " -0.8243028   1.52655621 -0.8243028   1.52655621 -0.8243028   1.52655621\n",
      "  1.52655621 -0.8243028  -0.8243028  -0.8243028   1.52655621  1.52655621\n",
      "  1.52655621]' has dtype incompatible with int64, please explicitly cast to a compatible dtype first.\n",
      "  df_test_norm.loc[:, col_name] = (df_test_norm.loc[:, col_name] - mean)/std\n"
     ]
    },
    {
     "data": {
      "text/plain": [
       "      MPG  Cylinders  Displacement  Horsepower    Weight  Acceleration  \\\n",
       "203  28.0  -0.824303     -0.901020   -0.736562 -0.950031      0.255202   \n",
       "255  19.4   0.351127      0.413800   -0.340982  0.293190      0.548737   \n",
       "72   13.0   1.526556      1.144256    0.713897  1.339617     -0.625403   \n",
       "235  30.5  -0.824303     -0.891280   -1.053025 -1.072585      0.475353   \n",
       "37   14.0   1.526556      1.563051    1.636916  1.470420     -1.359240   \n",
       "\n",
       "     Model Year  Origin  \n",
       "203          76       3  \n",
       "255          78       1  \n",
       "72           72       1  \n",
       "235          77       1  \n",
       "37           71       1  "
      ],
      "text/html": [
       "<div>\n",
       "<style scoped>\n",
       "    .dataframe tbody tr th:only-of-type {\n",
       "        vertical-align: middle;\n",
       "    }\n",
       "\n",
       "    .dataframe tbody tr th {\n",
       "        vertical-align: top;\n",
       "    }\n",
       "\n",
       "    .dataframe thead th {\n",
       "        text-align: right;\n",
       "    }\n",
       "</style>\n",
       "<table border=\"1\" class=\"dataframe\">\n",
       "  <thead>\n",
       "    <tr style=\"text-align: right;\">\n",
       "      <th></th>\n",
       "      <th>MPG</th>\n",
       "      <th>Cylinders</th>\n",
       "      <th>Displacement</th>\n",
       "      <th>Horsepower</th>\n",
       "      <th>Weight</th>\n",
       "      <th>Acceleration</th>\n",
       "      <th>Model Year</th>\n",
       "      <th>Origin</th>\n",
       "    </tr>\n",
       "  </thead>\n",
       "  <tbody>\n",
       "    <tr>\n",
       "      <th>203</th>\n",
       "      <td>28.0</td>\n",
       "      <td>-0.824303</td>\n",
       "      <td>-0.901020</td>\n",
       "      <td>-0.736562</td>\n",
       "      <td>-0.950031</td>\n",
       "      <td>0.255202</td>\n",
       "      <td>76</td>\n",
       "      <td>3</td>\n",
       "    </tr>\n",
       "    <tr>\n",
       "      <th>255</th>\n",
       "      <td>19.4</td>\n",
       "      <td>0.351127</td>\n",
       "      <td>0.413800</td>\n",
       "      <td>-0.340982</td>\n",
       "      <td>0.293190</td>\n",
       "      <td>0.548737</td>\n",
       "      <td>78</td>\n",
       "      <td>1</td>\n",
       "    </tr>\n",
       "    <tr>\n",
       "      <th>72</th>\n",
       "      <td>13.0</td>\n",
       "      <td>1.526556</td>\n",
       "      <td>1.144256</td>\n",
       "      <td>0.713897</td>\n",
       "      <td>1.339617</td>\n",
       "      <td>-0.625403</td>\n",
       "      <td>72</td>\n",
       "      <td>1</td>\n",
       "    </tr>\n",
       "    <tr>\n",
       "      <th>235</th>\n",
       "      <td>30.5</td>\n",
       "      <td>-0.824303</td>\n",
       "      <td>-0.891280</td>\n",
       "      <td>-1.053025</td>\n",
       "      <td>-1.072585</td>\n",
       "      <td>0.475353</td>\n",
       "      <td>77</td>\n",
       "      <td>1</td>\n",
       "    </tr>\n",
       "    <tr>\n",
       "      <th>37</th>\n",
       "      <td>14.0</td>\n",
       "      <td>1.526556</td>\n",
       "      <td>1.563051</td>\n",
       "      <td>1.636916</td>\n",
       "      <td>1.470420</td>\n",
       "      <td>-1.359240</td>\n",
       "      <td>71</td>\n",
       "      <td>1</td>\n",
       "    </tr>\n",
       "  </tbody>\n",
       "</table>\n",
       "</div>"
      ]
     },
     "execution_count": 14,
     "metadata": {},
     "output_type": "execute_result"
    }
   ],
   "execution_count": 14
  },
  {
   "metadata": {
    "ExecuteTime": {
     "end_time": "2024-10-14T06:51:16.561269Z",
     "start_time": "2024-10-14T06:51:16.555189Z"
    }
   },
   "cell_type": "code",
   "source": [
    "boundaries = torch.tensor([73, 76, 79])\n",
    " \n",
    "v = torch.tensor(df_train_norm['Model Year'].values)\n",
    "df_train_norm['Model Year Bucketed'] = torch.bucketize(v, boundaries, right=True)\n",
    "\n",
    "v = torch.tensor(df_test_norm['Model Year'].values)\n",
    "df_test_norm['Model Year Bucketed'] = torch.bucketize(v, boundaries, right=True)\n",
    "\n",
    "numeric_column_names.append('Model Year Bucketed')"
   ],
   "id": "20b062ca20355618",
   "outputs": [],
   "execution_count": 15
  },
  {
   "metadata": {
    "ExecuteTime": {
     "end_time": "2024-10-14T06:51:16.666906Z",
     "start_time": "2024-10-14T06:51:16.659760Z"
    }
   },
   "cell_type": "code",
   "source": [
    "total_origin = len(set(df_train_norm['Origin']))\n",
    "\n",
    "origin_encoded = one_hot(torch.from_numpy(df_train_norm['Origin'].values) % total_origin)\n",
    "x_train_numeric = torch.tensor(df_train_norm[numeric_column_names].values)\n",
    "x_train = torch.cat([x_train_numeric, origin_encoded], 1).float()\n",
    " \n",
    "origin_encoded = one_hot(torch.from_numpy(df_test_norm['Origin'].values) % total_origin)\n",
    "x_test_numeric = torch.tensor(df_test_norm[numeric_column_names].values)\n",
    "x_test = torch.cat([x_test_numeric, origin_encoded], 1).float()\n",
    "\n",
    "y_train = torch.tensor(df_train_norm['MPG'].values).float()\n",
    "y_test = torch.tensor(df_test_norm['MPG'].values).float()"
   ],
   "id": "a9796616b84c721",
   "outputs": [],
   "execution_count": 16
  },
  {
   "metadata": {
    "ExecuteTime": {
     "end_time": "2024-10-14T07:09:55.029988Z",
     "start_time": "2024-10-14T07:09:55.021197Z"
    }
   },
   "cell_type": "code",
   "source": [
    "#13.6.2训练DNN回归模型\n",
    "train_ds = TensorDataset(x_train, y_train)\n",
    "batch_size = 8\n",
    "torch.manual_seed(1)\n",
    "train_dl = DataLoader(train_ds, batch_size, shuffle=True)"
   ],
   "id": "e8b4b0ea388a01d4",
   "outputs": [],
   "execution_count": 17
  },
  {
   "metadata": {
    "ExecuteTime": {
     "end_time": "2024-10-14T07:10:07.227788Z",
     "start_time": "2024-10-14T07:10:07.222007Z"
    }
   },
   "cell_type": "code",
   "source": [
    "hidden_units = [8, 4]\n",
    "input_size = x_train.shape[1]\n",
    "\n",
    "all_layers = []\n",
    "for hidden_unit in hidden_units:\n",
    "    layer = nn.Linear(input_size, hidden_unit)\n",
    "    all_layers.append(layer)\n",
    "    all_layers.append(nn.ReLU())\n",
    "    input_size = hidden_unit\n",
    "\n",
    "all_layers.append(nn.Linear(hidden_units[-1], 1))\n",
    "\n",
    "model = nn.Sequential(*all_layers)\n",
    "\n",
    "model"
   ],
   "id": "60a8a4c643f1f6f8",
   "outputs": [
    {
     "data": {
      "text/plain": [
       "Sequential(\n",
       "  (0): Linear(in_features=9, out_features=8, bias=True)\n",
       "  (1): ReLU()\n",
       "  (2): Linear(in_features=8, out_features=4, bias=True)\n",
       "  (3): ReLU()\n",
       "  (4): Linear(in_features=4, out_features=1, bias=True)\n",
       ")"
      ]
     },
     "execution_count": 18,
     "metadata": {},
     "output_type": "execute_result"
    }
   ],
   "execution_count": 18
  },
  {
   "metadata": {
    "ExecuteTime": {
     "end_time": "2024-10-14T07:11:22.892083Z",
     "start_time": "2024-10-14T07:11:22.888975Z"
    }
   },
   "cell_type": "code",
   "source": [
    "loss_fn = nn.MSELoss()\n",
    "optimizer = torch.optim.SGD(model.parameters(), lr=0.001)"
   ],
   "id": "e15ce28c922741cd",
   "outputs": [],
   "execution_count": 19
  },
  {
   "metadata": {
    "ExecuteTime": {
     "end_time": "2024-10-14T07:11:42.041149Z",
     "start_time": "2024-10-14T07:11:38.072550Z"
    }
   },
   "cell_type": "code",
   "source": [
    "torch.manual_seed(1)\n",
    "num_epochs = 200\n",
    "log_epochs = 20 \n",
    "for epoch in range(num_epochs):\n",
    "    loss_hist_train = 0\n",
    "    for x_batch, y_batch in train_dl:\n",
    "        pred = model(x_batch)[:, 0]\n",
    "        loss = loss_fn(pred, y_batch)\n",
    "        loss.backward()\n",
    "        optimizer.step()\n",
    "        optimizer.zero_grad()\n",
    "        loss_hist_train += loss.item()\n",
    "    if epoch % log_epochs==0:\n",
    "        print(f'Epoch {epoch}  Loss {loss_hist_train/len(train_dl):.4f}')"
   ],
   "id": "f94f0492e2976870",
   "outputs": [
    {
     "name": "stdout",
     "output_type": "stream",
     "text": [
      "Epoch 0  Loss 536.1047\n",
      "Epoch 20  Loss 8.4361\n",
      "Epoch 40  Loss 7.8695\n",
      "Epoch 60  Loss 7.1891\n",
      "Epoch 80  Loss 6.7064\n",
      "Epoch 100  Loss 6.7603\n",
      "Epoch 120  Loss 6.3107\n",
      "Epoch 140  Loss 6.6884\n",
      "Epoch 160  Loss 6.7549\n",
      "Epoch 180  Loss 6.2029\n"
     ]
    }
   ],
   "execution_count": 20
  },
  {
   "metadata": {
    "ExecuteTime": {
     "end_time": "2024-10-14T07:11:55.519703Z",
     "start_time": "2024-10-14T07:11:55.515209Z"
    }
   },
   "cell_type": "code",
   "source": [
    "with torch.no_grad():\n",
    "    pred = model(x_test.float())[:, 0]\n",
    "    loss = loss_fn(pred, y_test)\n",
    "    print(f'Test MSE: {loss.item():.4f}')\n",
    "    print(f'Test MAE: {nn.L1Loss()(pred, y_test).item():.4f}')"
   ],
   "id": "16d91cd698ee5f6f",
   "outputs": [
    {
     "name": "stdout",
     "output_type": "stream",
     "text": [
      "Test MSE: 9.5907\n",
      "Test MAE: 2.1177\n"
     ]
    }
   ],
   "execution_count": 21
  },
  {
   "metadata": {},
   "cell_type": "code",
   "outputs": [],
   "execution_count": null,
   "source": "",
   "id": "9c357c6648c55e98"
  }
 ],
 "metadata": {
  "kernelspec": {
   "display_name": "Python 3",
   "language": "python",
   "name": "python3"
  },
  "language_info": {
   "codemirror_mode": {
    "name": "ipython",
    "version": 2
   },
   "file_extension": ".py",
   "mimetype": "text/x-python",
   "name": "python",
   "nbconvert_exporter": "python",
   "pygments_lexer": "ipython2",
   "version": "2.7.6"
  }
 },
 "nbformat": 4,
 "nbformat_minor": 5
}
